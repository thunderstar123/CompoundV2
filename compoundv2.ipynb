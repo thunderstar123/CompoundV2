{
 "cells": [
  {
   "cell_type": "code",
   "execution_count": null,
   "metadata": {
    "execution": {
     "iopub.execute_input": "2025-05-05T10:43:39.434920Z",
     "iopub.status.busy": "2025-05-05T10:43:39.434609Z",
     "iopub.status.idle": "2025-05-05T10:43:40.423709Z",
     "shell.execute_reply": "2025-05-05T10:43:40.422714Z",
     "shell.execute_reply.started": "2025-05-05T10:43:39.434893Z"
    },
    "trusted": true
   },
   "outputs": [],
   "source": [
    "import json\n",
    "import glob\n",
    "from collections import defaultdict\n",
    "\n",
    "# Load all json files\n",
    "transaction_types = ['deposits', 'borrows', 'withdraws', 'repays', 'liquidates']\n",
    "files = [\n",
    "    './compoundV2_transactions_ethereum_chunk_0.json', \n",
    "    './compoundV2_transactions_ethereum_chunk_1.json', \n",
    "    './compoundV2_transactions_ethereum_chunk_2.json'\n",
    "]\n",
    "\n",
    "data = defaultdict(list)\n",
    "\n",
    "for file in files:\n",
    "    with open(file) as f:\n",
    "        content = json.load(f)\n",
    "        for tx_type in transaction_types:\n",
    "            if tx_type in content:\n",
    "                data[tx_type].extend(content[tx_type])\n"
   ]
  },
  {
   "cell_type": "code",
   "execution_count": 2,
   "metadata": {
    "execution": {
     "iopub.execute_input": "2025-05-05T10:43:43.727994Z",
     "iopub.status.busy": "2025-05-05T10:43:43.727646Z",
     "iopub.status.idle": "2025-05-05T10:43:44.735891Z",
     "shell.execute_reply": "2025-05-05T10:43:44.734856Z",
     "shell.execute_reply.started": "2025-05-05T10:43:43.727960Z"
    },
    "trusted": true
   },
   "outputs": [],
   "source": [
    "import pandas as pd\n",
    "from datetime import datetime\n",
    "import numpy as np\n",
    "\n",
    "wallet_stats = defaultdict(lambda: {\n",
    "    'total_deposit': 0.0,\n",
    "    'total_withdraw': 0.0,\n",
    "    'total_borrow': 0.0,\n",
    "    'total_repay': 0.0,\n",
    "    'total_liquidated': 0.0,\n",
    "    'total_liquidator_profit': 0.0,\n",
    "    'num_liquidated': 0,\n",
    "    'num_liquidator': 0,\n",
    "    'assets': set(),\n",
    "    'first_seen': float('inf'),\n",
    "    'last_seen': 0,\n",
    "    'tx_count': 0\n",
    "})\n",
    "\n",
    "# Helper to update time range\n",
    "def update_time(stat, ts):\n",
    "    ts = int(ts)\n",
    "    stat['first_seen'] = min(stat['first_seen'], ts)\n",
    "    stat['last_seen'] = max(stat['last_seen'], ts)\n",
    "\n",
    "# Process non-liquidation transactions\n",
    "for tx_type in ['deposits', 'withdraws', 'borrows', 'repays']:\n",
    "    for tx in data[tx_type]:\n",
    "        wallet = tx['account']['id']\n",
    "        usd_amt = float(tx.get('amountUSD', 0))\n",
    "        asset_symbol = tx['asset']['symbol']\n",
    "        timestamp = tx['timestamp']\n",
    "\n",
    "        stat = wallet_stats[wallet]\n",
    "        stat[f'total_{tx_type[:-1]}'] += usd_amt  # remove trailing 's'\n",
    "        stat['assets'].add(asset_symbol)\n",
    "        update_time(stat, timestamp)\n",
    "        stat['tx_count'] += 1\n",
    "\n",
    "# Process liquidations\n",
    "for tx in data['liquidates']:\n",
    "    liquidatee = tx['liquidatee']['id']\n",
    "    liquidator = tx['liquidator']['id']\n",
    "    usd_amt = float(tx.get('amountUSD', 0))\n",
    "    asset_symbol = tx['asset']['symbol']\n",
    "    timestamp = tx['timestamp']\n",
    "\n",
    "    wallet_stats[liquidatee]['total_liquidated'] += usd_amt\n",
    "    wallet_stats[liquidatee]['num_liquidated'] += 1\n",
    "    update_time(wallet_stats[liquidatee], timestamp)\n",
    "\n",
    "    wallet_stats[liquidator]['total_liquidator_profit'] += usd_amt\n",
    "    wallet_stats[liquidator]['num_liquidator'] += 1\n",
    "    update_time(wallet_stats[liquidator], timestamp)\n",
    "\n",
    "    wallet_stats[liquidator]['assets'].add(asset_symbol)\n",
    "    wallet_stats[liquidator]['tx_count'] += 1"
   ]
  },
  {
   "cell_type": "code",
   "execution_count": 3,
   "metadata": {
    "execution": {
     "iopub.execute_input": "2025-05-05T10:43:46.752783Z",
     "iopub.status.busy": "2025-05-05T10:43:46.752006Z",
     "iopub.status.idle": "2025-05-05T10:43:46.839125Z",
     "shell.execute_reply": "2025-05-05T10:43:46.838127Z",
     "shell.execute_reply.started": "2025-05-05T10:43:46.752753Z"
    },
    "trusted": true
   },
   "outputs": [],
   "source": [
    "rows = []\n",
    "\n",
    "for wallet, stats in wallet_stats.items():\n",
    "    duration_days = (stats['last_seen'] - stats['first_seen']) / 86400 if stats['first_seen'] != float('inf') else 0\n",
    "    rows.append({\n",
    "        'wallet': wallet,\n",
    "        'tx_count': stats['tx_count'],\n",
    "        'net_deposit': stats['total_deposit'] - stats['total_withdraw'],\n",
    "        'net_borrow': stats['total_borrow'] - stats['total_repay'],\n",
    "        'total_liquidated': stats['total_liquidated'],\n",
    "        'liquidator_profit': stats['total_liquidator_profit'],\n",
    "        'num_liquidated': stats['num_liquidated'],\n",
    "        'num_liquidator': stats['num_liquidator'],\n",
    "        'asset_diversity': len(stats['assets']),\n",
    "        'active_days': duration_days\n",
    "    })\n",
    "\n",
    "df = pd.DataFrame(rows)"
   ]
  },
  {
   "cell_type": "code",
   "execution_count": 4,
   "metadata": {
    "execution": {
     "iopub.execute_input": "2025-05-05T10:43:48.431941Z",
     "iopub.status.busy": "2025-05-05T10:43:48.431624Z",
     "iopub.status.idle": "2025-05-05T10:43:49.205448Z",
     "shell.execute_reply": "2025-05-05T10:43:49.204477Z",
     "shell.execute_reply.started": "2025-05-05T10:43:48.431914Z"
    },
    "trusted": true
   },
   "outputs": [],
   "source": [
    "from sklearn.preprocessing import MinMaxScaler\n",
    "from sklearn.decomposition import PCA\n",
    "\n",
    "features = df.drop(columns=['wallet'])\n",
    "scaler = MinMaxScaler()\n",
    "scaled_features = scaler.fit_transform(features)\n",
    "\n",
    "pca = PCA(n_components=1)\n",
    "principal_score = pca.fit_transform(scaled_features)\n",
    "\n",
    "# Normalize score between 0 and 100\n",
    "score_scaled = MinMaxScaler((0, 100)).fit_transform(principal_score)\n",
    "\n",
    "df['score'] = score_scaled.round(2)"
   ]
  },
  {
   "cell_type": "code",
   "execution_count": 6,
   "metadata": {
    "execution": {
     "iopub.execute_input": "2025-05-05T10:44:35.268236Z",
     "iopub.status.busy": "2025-05-05T10:44:35.267878Z",
     "iopub.status.idle": "2025-05-05T10:44:35.289680Z",
     "shell.execute_reply": "2025-05-05T10:44:35.288748Z",
     "shell.execute_reply.started": "2025-05-05T10:44:35.268210Z"
    },
    "trusted": true
   },
   "outputs": [],
   "source": [
    "wallet_scores = df[['wallet', 'score']].sort_values(by='score', ascending=False)\n",
    "\n",
    "top_1000 = wallet_scores.sort_values(by='score', ascending=False).head(1000)\n",
    "top_1000.to_csv(\"top_1000_wallet_scores.csv\", index=False)"
   ]
  },
  {
   "cell_type": "code",
   "execution_count": 7,
   "metadata": {
    "execution": {
     "iopub.execute_input": "2025-05-05T10:44:38.160591Z",
     "iopub.status.busy": "2025-05-05T10:44:38.160244Z",
     "iopub.status.idle": "2025-05-05T10:44:38.185275Z",
     "shell.execute_reply": "2025-05-05T10:44:38.184041Z",
     "shell.execute_reply.started": "2025-05-05T10:44:38.160563Z"
    },
    "trusted": true
   },
   "outputs": [
    {
     "name": "stdout",
     "output_type": "stream",
     "text": [
      "\n",
      "Top 5 Wallets - Feature Details:\n",
      "                                           wallet  tx_count   net_deposit  \\\n",
      "1028  0x93667dcc21f791f71c4d8ec19ab5fcbbae06a389        14  19235.625386   \n",
      "441   0x8376b14104dbf0642a3c2adfa33793cfcb0b8d76        12     10.874799   \n",
      "774   0xfccb964c514c12794509ed62fa274f0e284cee82         5    741.867498   \n",
      "2013  0xa3c6dc326ce56d83730c67d2a0b9dddfc9fe9258         2     13.393047   \n",
      "2526  0x89b6aeabcbd42b56979d5fce7be21ac8382d9bd0         2     91.325995   \n",
      "\n",
      "       net_borrow  total_liquidated  liquidator_profit  num_liquidated  \\\n",
      "1028  8215.791419      11475.886491                0.0              14   \n",
      "441     10.249571        338.274244                0.0              15   \n",
      "774    350.000000        382.387446                0.0               5   \n",
      "2013     4.420440         55.243320                0.0               3   \n",
      "2526    50.032739        126.165793                0.0               7   \n",
      "\n",
      "      num_liquidator  asset_diversity  active_days   score  \n",
      "1028               0                3  2113.646354  100.00  \n",
      "441                0                5  2118.298773   99.85  \n",
      "774                0                4  2112.069525   99.39  \n",
      "2013               0                2  2095.595880   98.95  \n",
      "2526               0                2  2086.761146   98.69  \n",
      "\n",
      "Bottom 5 Wallets - Feature Details:\n",
      "                                            wallet  tx_count  net_deposit  \\\n",
      "15433  0xa769659e65b6624d754728136f06adb0b2a697ca        21     0.000000   \n",
      "10750  0x99fde6fbac741815447826a852ae5976ae2783c8         8   -66.067396   \n",
      "614    0xf583f4428382f0ee4d4669619d62c498e29d15b2         6    37.155197   \n",
      "10858  0xb8a77aeb4f004d932f8b16c3c57a04022707230d         6   -11.331599   \n",
      "13594  0x5e32f33e261a90ff9fe94230387118945599268c        33     0.000000   \n",
      "\n",
      "       net_borrow  total_liquidated  liquidator_profit  num_liquidated  \\\n",
      "15433         0.0               0.0        7893.871401               0   \n",
      "10750         0.0               0.0           0.000000               0   \n",
      "614           0.0               0.0           0.000000               0   \n",
      "10858         0.0               0.0           0.000000               0   \n",
      "13594         0.0               0.0         173.569099               0   \n",
      "\n",
      "       num_liquidator  asset_diversity  active_days  score  \n",
      "15433              21                8     3.377523   0.00  \n",
      "10750               0                7     0.957558   0.09  \n",
      "614                 0                6     0.062269   0.24  \n",
      "10858               0                6     0.007755   0.24  \n",
      "13594              33                6     0.048137   0.25  \n"
     ]
    }
   ],
   "source": [
    "# Get top 5 and bottom 5 wallets by score\n",
    "top_5 = df.sort_values(by='score', ascending=False).head(5)\n",
    "bottom_5 = df.sort_values(by='score', ascending=True).head(5)\n",
    "\n",
    "# Show detailed stats for them\n",
    "print(\"\\nTop 5 Wallets - Feature Details:\\n\", top_5)\n",
    "print(\"\\nBottom 5 Wallets - Feature Details:\\n\", bottom_5)"
   ]
  }
 ],
 "metadata": {
  "kaggle": {
   "accelerator": "none",
   "dataSources": [
    {
     "datasetId": 7331386,
     "sourceId": 11681168,
     "sourceType": "datasetVersion"
    }
   ],
   "dockerImageVersionId": 31012,
   "isGpuEnabled": false,
   "isInternetEnabled": true,
   "language": "python",
   "sourceType": "notebook"
  },
  "kernelspec": {
   "display_name": "Python 3",
   "language": "python",
   "name": "python3"
  },
  "language_info": {
   "codemirror_mode": {
    "name": "ipython",
    "version": 3
   },
   "file_extension": ".py",
   "mimetype": "text/x-python",
   "name": "python",
   "nbconvert_exporter": "python",
   "pygments_lexer": "ipython3",
   "version": "3.11.11"
  }
 },
 "nbformat": 4,
 "nbformat_minor": 4
}
